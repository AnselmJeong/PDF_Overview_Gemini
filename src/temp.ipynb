{
 "cells": [
  {
   "cell_type": "code",
   "execution_count": 1,
   "metadata": {},
   "outputs": [],
   "source": [
    "from sqlmodel import create_engine, select, Session, Field, SQLModel, JSON, Column\n",
    "from sqlalchemy.engine.base import Engine\n",
    "from pathlib import Path\n",
    "from main import Summary\n",
    "\n",
    "\n",
    "DB_PATH = Path(\"../db/new_summaries.db\")\n",
    "\n",
    "class SummaryDB(SQLModel, table=True):\n",
    "    pdf_hash: str = Field(primary_key=True)\n",
    "    file_handle: str | None = Field(default=None)\n",
    "    title: str | None = Field(default=None)\n",
    "    authors: list[str] | None = Field(default=None, sa_column=Column(JSON))\n",
    "    tldr: str | None = Field(default=None)\n",
    "    key_takeaways: list[str] | None = Field(default=None, sa_column=Column(JSON))\n",
    "    important_point: str | None = Field(default=None)\n",
    "    toc: str | None = Field(default=None)\n",
    "    summaries: list[str] | None = Field(default=None, sa_column=Column(JSON))\n",
    "\n",
    "\n",
    "my_summary = Summary(\n",
    "    title=\"My Title\",\n",
    "    authors=[\"John Doe\", \"Jane Doe\"],\n",
    "    tldr=\"My TLDR\",\n",
    "    key_takeaways=[\"Key takeaway 1\", \"Key takeaway 2\"],\n",
    "    important_point=\"My important point\",\n",
    "    toc=\"My TOC\",\n",
    "    summaries=[\"Summary 1\", \"Summary 2\"],\n",
    ")\n",
    "\n"
   ]
  },
  {
   "cell_type": "code",
   "execution_count": 2,
   "metadata": {},
   "outputs": [],
   "source": [
    "my_summary_db = SummaryDB(**my_summary.model_dump())"
   ]
  },
  {
   "cell_type": "code",
   "execution_count": 3,
   "metadata": {},
   "outputs": [],
   "source": [
    "my_summary_db.pdf_hash = hash(my_summary.title)\n",
    "\n"
   ]
  },
  {
   "cell_type": "code",
   "execution_count": 4,
   "metadata": {},
   "outputs": [
    {
     "data": {
      "text/plain": [
       "3435733672733745475"
      ]
     },
     "execution_count": 4,
     "metadata": {},
     "output_type": "execute_result"
    }
   ],
   "source": [
    "my_summary_db.pdf_hash"
   ]
  },
  {
   "cell_type": "code",
   "execution_count": 5,
   "metadata": {},
   "outputs": [
    {
     "data": {
      "text/plain": [
       "SummaryDB(title='My Title', tldr='My TLDR', important_point='My important point', toc='My TOC', pdf_hash='3435733672733745475', authors=['John Doe', 'Jane Doe'], file_handle=None, key_takeaways=['Key takeaway 1', 'Key takeaway 2'], summaries=['Summary 1', 'Summary 2'])"
      ]
     },
     "execution_count": 5,
     "metadata": {},
     "output_type": "execute_result"
    }
   ],
   "source": [
    "engine = create_engine(f\"sqlite:///{DB_PATH}\")\n",
    "SQLModel.metadata.create_all(engine)\n",
    "\n",
    "with Session(engine) as session:\n",
    "    session.add(my_summary_db)\n",
    "    session.commit()\n",
    "    session.refresh(my_summary_db)\n",
    "\n",
    "my_summary_db\n"
   ]
  },
  {
   "cell_type": "code",
   "execution_count": 8,
   "metadata": {},
   "outputs": [],
   "source": [
    "engine = create_engine(f\"sqlite:///{DB_PATH}\")"
   ]
  },
  {
   "cell_type": "code",
   "execution_count": 6,
   "metadata": {},
   "outputs": [
    {
     "data": {
      "text/plain": [
       "sqlalchemy.engine.base.Engine"
      ]
     },
     "execution_count": 6,
     "metadata": {},
     "output_type": "execute_result"
    }
   ],
   "source": [
    "type(engine)"
   ]
  },
  {
   "cell_type": "code",
   "execution_count": 8,
   "metadata": {},
   "outputs": [
    {
     "ename": "AttributeError",
     "evalue": "'str' object has no attribute 'with_suffix'",
     "output_type": "error",
     "traceback": [
      "\u001b[0;31m---------------------------------------------------------------------------\u001b[0m",
      "\u001b[0;31mAttributeError\u001b[0m                            Traceback (most recent call last)",
      "Cell \u001b[0;32mIn[8], line 3\u001b[0m\n\u001b[1;32m      1\u001b[0m path \u001b[38;5;241m=\u001b[39m Path(\u001b[38;5;124m\"\u001b[39m\u001b[38;5;124mdb/new_summaries.db\u001b[39m\u001b[38;5;124m\"\u001b[39m)\n\u001b[0;32m----> 3\u001b[0m \u001b[43mpath\u001b[49m\u001b[38;5;241;43m.\u001b[39;49m\u001b[43mstem\u001b[49m\u001b[38;5;241;43m.\u001b[39;49m\u001b[43mwith_suffix\u001b[49m(\u001b[38;5;124m\"\u001b[39m\u001b[38;5;124m_summary.md\u001b[39m\u001b[38;5;124m\"\u001b[39m)\n",
      "\u001b[0;31mAttributeError\u001b[0m: 'str' object has no attribute 'with_suffix'"
     ]
    }
   ],
   "source": [
    "path = Path(\"db/new_summaries.db\")\n",
    "\n",
    "path.stem.with_suffix(\"_summary.md\")"
   ]
  },
  {
   "cell_type": "code",
   "execution_count": 10,
   "metadata": {},
   "outputs": [
    {
     "data": {
      "text/plain": [
       "4824905250768771897"
      ]
     },
     "execution_count": 10,
     "metadata": {},
     "output_type": "execute_result"
    }
   ],
   "source": [
    "hash(\"Future of ChatGPT.pdf\")"
   ]
  },
  {
   "cell_type": "code",
   "execution_count": 11,
   "metadata": {},
   "outputs": [
    {
     "data": {
      "text/plain": [
       "4824905250768771897"
      ]
     },
     "execution_count": 11,
     "metadata": {},
     "output_type": "execute_result"
    }
   ],
   "source": [
    "hash(\"Future of ChatGPT.pdf\")"
   ]
  },
  {
   "cell_type": "code",
   "execution_count": 17,
   "metadata": {},
   "outputs": [
    {
     "data": {
      "text/plain": [
       "-8726345492117389069"
      ]
     },
     "execution_count": 17,
     "metadata": {},
     "output_type": "execute_result"
    }
   ],
   "source": [
    "hash(\"Future of ChatGPT\")"
   ]
  },
  {
   "cell_type": "code",
   "execution_count": 13,
   "metadata": {},
   "outputs": [],
   "source": [
    "path = Path(\"docs/Future of ChatGPT.pdf\")"
   ]
  },
  {
   "cell_type": "code",
   "execution_count": 16,
   "metadata": {},
   "outputs": [
    {
     "data": {
      "text/plain": [
       "-8726345492117389069"
      ]
     },
     "execution_count": 16,
     "metadata": {},
     "output_type": "execute_result"
    }
   ],
   "source": [
    "hash(path.stem)"
   ]
  },
  {
   "cell_type": "code",
   "execution_count": 20,
   "metadata": {},
   "outputs": [
    {
     "name": "stdout",
     "output_type": "stream",
     "text": [
      "../docs/Future of ChatGPT.pdf\n"
     ]
    }
   ],
   "source": [
    "for pdf_path in Path(\"../docs\").glob(\"*.*\"):\n",
    "    print(pdf_path)\n"
   ]
  },
  {
   "cell_type": "code",
   "execution_count": 22,
   "metadata": {},
   "outputs": [
    {
     "data": {
      "text/plain": [
       "'Future of ChatGPT'"
      ]
     },
     "execution_count": 22,
     "metadata": {},
     "output_type": "execute_result"
    }
   ],
   "source": [
    "path.stem"
   ]
  },
  {
   "cell_type": "code",
   "execution_count": 23,
   "metadata": {},
   "outputs": [
    {
     "data": {
      "text/plain": [
       "-8726345492117389069"
      ]
     },
     "execution_count": 23,
     "metadata": {},
     "output_type": "execute_result"
    }
   ],
   "source": [
    "hash(Path(\"docs/Future of ChatGPT.pdf\").stem)"
   ]
  },
  {
   "cell_type": "code",
   "execution_count": null,
   "metadata": {},
   "outputs": [],
   "source": []
  }
 ],
 "metadata": {
  "kernelspec": {
   "display_name": ".venv",
   "language": "python",
   "name": "python3"
  },
  "language_info": {
   "codemirror_mode": {
    "name": "ipython",
    "version": 3
   },
   "file_extension": ".py",
   "mimetype": "text/x-python",
   "name": "python",
   "nbconvert_exporter": "python",
   "pygments_lexer": "ipython3",
   "version": "3.12.6"
  }
 },
 "nbformat": 4,
 "nbformat_minor": 2
}
