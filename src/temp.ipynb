{
 "cells": [
  {
   "cell_type": "code",
   "execution_count": 1,
   "metadata": {},
   "outputs": [],
   "source": [
    "# %%\n",
    "import toml\n",
    "from pathlib import Path\n",
    "import instructor\n",
    "import google.generativeai as genai\n",
    "from pydantic import BaseModel, Field\n",
    "\n",
    "from dotenv import load_dotenv\n",
    "from google.ai.generativelanguage_v1beta.types.file import File\n",
    "\n",
    "from main import upload_pdf, summarize, format_summary, save_sqlite\n"
   ]
  },
  {
   "cell_type": "code",
   "execution_count": 2,
   "metadata": {},
   "outputs": [
    {
     "name": "stdout",
     "output_type": "stream",
     "text": [
      "File has been previously uploaded, trying to fetch\n",
      "\n"
     ]
    }
   ],
   "source": [
    "load_dotenv()\n",
    "\n",
    "GENAI_HANDLES_PATH = Path(\"./genai_handles.toml\")\n",
    "PDF_PATH = Path(\"../docs/Fugure of ChatGPT.pdf\")\n",
    "\n",
    "file = upload_pdf(PDF_PATH, GENAI_HANDLES_PATH)\n"
   ]
  },
  {
   "cell_type": "code",
   "execution_count": 3,
   "metadata": {},
   "outputs": [
    {
     "ename": "AttributeError",
     "evalue": "'Essentials' object has no attribute 'title'",
     "output_type": "error",
     "traceback": [
      "\u001b[0;31m---------------------------------------------------------------------------\u001b[0m",
      "\u001b[0;31mAttributeError\u001b[0m                            Traceback (most recent call last)",
      "Cell \u001b[0;32mIn[3], line 2\u001b[0m\n\u001b[1;32m      1\u001b[0m summary \u001b[38;5;241m=\u001b[39m summarize(file)\n\u001b[0;32m----> 2\u001b[0m \u001b[43msave_sqlite\u001b[49m\u001b[43m(\u001b[49m\u001b[43mPDF_PATH\u001b[49m\u001b[43m,\u001b[49m\u001b[43m \u001b[49m\u001b[43msummary\u001b[49m\u001b[43m)\u001b[49m\n",
      "File \u001b[0;32m~/_DEV_/PDF_Overview_Gemini/src/main.py:145\u001b[0m, in \u001b[0;36msave_sqlite\u001b[0;34m(pdf_path, summary, db_path)\u001b[0m\n\u001b[1;32m    139\u001b[0m c\u001b[38;5;241m.\u001b[39mexecute(\u001b[38;5;124m\"\"\"\u001b[39m\u001b[38;5;124mCREATE TABLE IF NOT EXISTS summaries\u001b[39m\n\u001b[1;32m    140\u001b[0m \u001b[38;5;124m                 (pdf_hash TEXT PRIMARY KEY, summary TEXT)\u001b[39m\u001b[38;5;124m\"\"\"\u001b[39m)\n\u001b[1;32m    142\u001b[0m \u001b[38;5;66;03m# Insert or replace the summary data\u001b[39;00m\n\u001b[1;32m    143\u001b[0m c\u001b[38;5;241m.\u001b[39mexecute(\n\u001b[1;32m    144\u001b[0m \u001b[38;5;250m    \u001b[39m\u001b[38;5;124;03m\"\"\"INSERT OR REPLACE INTO summaries (pdf_hash, summary) VALUES (?, ?)\"\"\"\u001b[39;00m,\n\u001b[0;32m--> 145\u001b[0m     (pdf_hash, \u001b[43mformat_summary\u001b[49m\u001b[43m(\u001b[49m\u001b[43msummary\u001b[49m\u001b[43m)\u001b[49m),\n\u001b[1;32m    146\u001b[0m )\n\u001b[1;32m    148\u001b[0m \u001b[38;5;66;03m# Commit the transaction and close the connection\u001b[39;00m\n\u001b[1;32m    149\u001b[0m conn\u001b[38;5;241m.\u001b[39mcommit()\n",
      "File \u001b[0;32m~/_DEV_/PDF_Overview_Gemini/src/main.py:114\u001b[0m, in \u001b[0;36mformat_summary\u001b[0;34m(summary)\u001b[0m\n\u001b[1;32m    110\u001b[0m \u001b[38;5;28;01mdef\u001b[39;00m \u001b[38;5;21mformat_summary\u001b[39m(summary: \u001b[38;5;28mdict\u001b[39m):\n\u001b[1;32m    111\u001b[0m     modified_summaries \u001b[38;5;241m=\u001b[39m [summary\u001b[38;5;241m.\u001b[39mreplace(\u001b[38;5;124m\"\u001b[39m\u001b[38;5;130;01m\\\\\u001b[39;00m\u001b[38;5;124mn\u001b[39m\u001b[38;5;124m\"\u001b[39m, \u001b[38;5;124m\"\u001b[39m\u001b[38;5;130;01m\\n\u001b[39;00m\u001b[38;5;124m\"\u001b[39m) \u001b[38;5;28;01mfor\u001b[39;00m summary \u001b[38;5;129;01min\u001b[39;00m summary[\u001b[38;5;124m\"\u001b[39m\u001b[38;5;124msection_summaries\u001b[39m\u001b[38;5;124m\"\u001b[39m]\u001b[38;5;241m.\u001b[39msummaries]\n\u001b[1;32m    113\u001b[0m     \u001b[38;5;28;01mreturn\u001b[39;00m \u001b[38;5;124mf\u001b[39m\u001b[38;5;124m\"\"\"\u001b[39m\n\u001b[0;32m--> 114\u001b[0m \u001b[38;5;124m    # \u001b[39m\u001b[38;5;132;01m{\u001b[39;00m\u001b[43msummary\u001b[49m\u001b[43m[\u001b[49m\u001b[38;5;124;43m\"\u001b[39;49m\u001b[38;5;124;43messentials\u001b[39;49m\u001b[38;5;124;43m\"\u001b[39;49m\u001b[43m]\u001b[49m\u001b[38;5;241;43m.\u001b[39;49m\u001b[43mtitle\u001b[49m\u001b[38;5;132;01m}\u001b[39;00m\u001b[38;5;130;01m\\n\u001b[39;00m\u001b[38;5;130;01m\\n\u001b[39;00m\n\u001b[1;32m    115\u001b[0m \u001b[38;5;124m    #### \u001b[39m\u001b[38;5;132;01m{\u001b[39;00m\u001b[38;5;124m\"\u001b[39m\u001b[38;5;124m, \u001b[39m\u001b[38;5;124m\"\u001b[39m\u001b[38;5;241m.\u001b[39mjoin(summary[\u001b[38;5;124m\"\u001b[39m\u001b[38;5;124messentials\u001b[39m\u001b[38;5;124m\"\u001b[39m]\u001b[38;5;241m.\u001b[39mauthors)\u001b[38;5;132;01m}\u001b[39;00m\u001b[38;5;130;01m\\n\u001b[39;00m\u001b[38;5;130;01m\\n\u001b[39;00m\n\u001b[1;32m    116\u001b[0m \u001b[38;5;124m    ### TL;DR\u001b[39m\u001b[38;5;130;01m\\n\u001b[39;00m\n\u001b[1;32m    117\u001b[0m \u001b[38;5;124m    \u001b[39m\u001b[38;5;132;01m{\u001b[39;00msummary[\u001b[38;5;124m\"\u001b[39m\u001b[38;5;124messentials\u001b[39m\u001b[38;5;124m\"\u001b[39m]\u001b[38;5;241m.\u001b[39mtldr\u001b[38;5;132;01m}\u001b[39;00m\u001b[38;5;130;01m\\n\u001b[39;00m\u001b[38;5;130;01m\\n\u001b[39;00m\n\u001b[1;32m    118\u001b[0m \u001b[38;5;124m    ### Key Takeaways\u001b[39m\u001b[38;5;130;01m\\n\u001b[39;00m\n\u001b[1;32m    119\u001b[0m \u001b[38;5;124m    \u001b[39m\u001b[38;5;132;01m{\u001b[39;00msummary[\u001b[38;5;124m\"\u001b[39m\u001b[38;5;124mkey_takeaways\u001b[39m\u001b[38;5;124m\"\u001b[39m]\u001b[38;5;132;01m}\u001b[39;00m\u001b[38;5;130;01m\\n\u001b[39;00m\u001b[38;5;130;01m\\n\u001b[39;00m\n\u001b[1;32m    120\u001b[0m \u001b[38;5;124m    ### Important Point\u001b[39m\u001b[38;5;130;01m\\n\u001b[39;00m\n\u001b[1;32m    121\u001b[0m \u001b[38;5;124m    \u001b[39m\u001b[38;5;132;01m{\u001b[39;00msummary[\u001b[38;5;124m\"\u001b[39m\u001b[38;5;124mimportant_point\u001b[39m\u001b[38;5;124m\"\u001b[39m]\u001b[38;5;132;01m}\u001b[39;00m\u001b[38;5;130;01m\\n\u001b[39;00m\u001b[38;5;130;01m\\n\u001b[39;00m\n\u001b[1;32m    122\u001b[0m \u001b[38;5;124m    - - -\u001b[39m\n\u001b[1;32m    123\u001b[0m \u001b[38;5;124m    \u001b[39m\u001b[38;5;132;01m{\u001b[39;00m\u001b[38;5;124m\"\u001b[39m\u001b[38;5;130;01m\\n\u001b[39;00m\u001b[38;5;130;01m\\n\u001b[39;00m\u001b[38;5;124m\"\u001b[39m\u001b[38;5;241m.\u001b[39mjoin(modified_summaries)\u001b[38;5;132;01m}\u001b[39;00m\n\u001b[1;32m    124\u001b[0m \u001b[38;5;124m    \u001b[39m\u001b[38;5;124m\"\"\"\u001b[39m\n",
      "File \u001b[0;32m~/_DEV_/PDF_Overview_Gemini/.venv/lib/python3.12/site-packages/pydantic/main.py:856\u001b[0m, in \u001b[0;36mBaseModel.__getattr__\u001b[0;34m(self, item)\u001b[0m\n\u001b[1;32m    853\u001b[0m     \u001b[38;5;28;01mreturn\u001b[39;00m \u001b[38;5;28msuper\u001b[39m()\u001b[38;5;241m.\u001b[39m\u001b[38;5;21m__getattribute__\u001b[39m(item)  \u001b[38;5;66;03m# Raises AttributeError if appropriate\u001b[39;00m\n\u001b[1;32m    854\u001b[0m \u001b[38;5;28;01melse\u001b[39;00m:\n\u001b[1;32m    855\u001b[0m     \u001b[38;5;66;03m# this is the current error\u001b[39;00m\n\u001b[0;32m--> 856\u001b[0m     \u001b[38;5;28;01mraise\u001b[39;00m \u001b[38;5;167;01mAttributeError\u001b[39;00m(\u001b[38;5;124mf\u001b[39m\u001b[38;5;124m'\u001b[39m\u001b[38;5;132;01m{\u001b[39;00m\u001b[38;5;28mtype\u001b[39m(\u001b[38;5;28mself\u001b[39m)\u001b[38;5;241m.\u001b[39m\u001b[38;5;18m__name__\u001b[39m\u001b[38;5;132;01m!r}\u001b[39;00m\u001b[38;5;124m object has no attribute \u001b[39m\u001b[38;5;132;01m{\u001b[39;00mitem\u001b[38;5;132;01m!r}\u001b[39;00m\u001b[38;5;124m'\u001b[39m)\n",
      "\u001b[0;31mAttributeError\u001b[0m: 'Essentials' object has no attribute 'title'"
     ]
    }
   ],
   "source": [
    "summary = summarize(file)\n",
    "save_sqlite(PDF_PATH, summary)\n"
   ]
  },
  {
   "cell_type": "code",
   "execution_count": null,
   "metadata": {},
   "outputs": [],
   "source": [
    "summary"
   ]
  },
  {
   "cell_type": "code",
   "execution_count": null,
   "metadata": {},
   "outputs": [],
   "source": [
    "formatted_summary = format_summary(summary)\n",
    "formatted_summary\n",
    "# %%\n"
   ]
  },
  {
   "cell_type": "code",
   "execution_count": null,
   "metadata": {},
   "outputs": [],
   "source": []
  }
 ],
 "metadata": {
  "kernelspec": {
   "display_name": ".venv",
   "language": "python",
   "name": "python3"
  },
  "language_info": {
   "codemirror_mode": {
    "name": "ipython",
    "version": 3
   },
   "file_extension": ".py",
   "mimetype": "text/x-python",
   "name": "python",
   "nbconvert_exporter": "python",
   "pygments_lexer": "ipython3",
   "version": "3.12.7"
  }
 },
 "nbformat": 4,
 "nbformat_minor": 2
}
